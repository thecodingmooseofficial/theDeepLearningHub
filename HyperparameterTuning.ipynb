{
  "nbformat": 4,
  "nbformat_minor": 0,
  "metadata": {
    "colab": {
      "provenance": []
    },
    "kernelspec": {
      "name": "python3",
      "display_name": "Python 3"
    },
    "language_info": {
      "name": "python"
    }
  },
  "cells": [
    {
      "cell_type": "code",
      "execution_count": 1,
      "metadata": {
        "colab": {
          "base_uri": "https://localhost:8080/"
        },
        "id": "eyZuwJ5mo1b1",
        "outputId": "dd51b941-d27e-4618-9cf8-a2357e3930ab"
      },
      "outputs": [
        {
          "output_type": "execute_result",
          "data": {
            "text/plain": [
              "((60000, 28, 28), (60000,), (10000, 28, 28), (10000,))"
            ]
          },
          "metadata": {},
          "execution_count": 1
        }
      ],
      "source": [
        "# Load MNIST\n",
        "from tensorflow.keras.datasets import mnist\n",
        "(X_train, y_train), (X_test, y_test) = mnist.load_data()\n",
        "X_train.shape, y_train.shape, X_test.shape, y_test.shape"
      ]
    },
    {
      "cell_type": "code",
      "source": [
        "# Visualize the first 10 images\n",
        "import matplotlib.pyplot as plt\n",
        "fig, axes = plt.subplots(nrows=1, ncols=10, figsize=(20, 3))\n",
        "for i in range(10):\n",
        "    axes[i].imshow(X_train[i], cmap='gray')"
      ],
      "metadata": {
        "colab": {
          "base_uri": "https://localhost:8080/",
          "height": 172
        },
        "id": "F4OBztx7pt5B",
        "outputId": "a463cae9-d625-4bf0-99af-2f78fbcfe61a"
      },
      "execution_count": 2,
      "outputs": [
        {
          "output_type": "display_data",
          "data": {
            "text/plain": [
              "<Figure size 2000x300 with 10 Axes>"
            ],
            "image/png": "[encoded data removed]"
          },
          "metadata": {}
        }
      ]
    },
    {
      "cell_type": "code",
      "source": [
        "plt.imshow(X_train[0]) # Original Image"
      ],
      "metadata": {
        "colab": {
          "base_uri": "https://localhost:8080/",
          "height": 448
        },
        "id": "5_hGWyvXqAsA",
        "outputId": "a2e06443-d69f-4ea5-976f-69af93ff84f6"
      },
      "execution_count": 3,
      "outputs": [
        {
          "output_type": "execute_result",
          "data": {
            "text/plain": [
              "<matplotlib.image.AxesImage at 0x78d43f3318d0>"
            ]
          },
          "metadata": {},
          "execution_count": 3
        },
        {
          "output_type": "display_data",
          "data": {
            "text/plain": [
              "<Figure size 640x480 with 1 Axes>"
            ],
            "image/png": "[encoded data removed]"
          },
          "metadata": {}
        }
      ]
    },
    {
      "cell_type": "code",
      "source": [
        "y_train[0] # Label"
      ],
      "metadata": {
        "colab": {
          "base_uri": "https://localhost:8080/"
        },
        "id": "g1oxl1r8qM08",
        "outputId": "206d6646-6fe5-49a5-dc53-0af20da03f45"
      },
      "execution_count": 4,
      "outputs": [
        {
          "output_type": "execute_result",
          "data": {
            "text/plain": [
              "5"
            ]
          },
          "metadata": {},
          "execution_count": 4
        }
      ]
    },
    {
      "cell_type": "code",
      "source": [
        "# Create Adam Optimizer\n",
        "from tensorflow.keras.optimizers import Adam\n",
        "optimizer_1 = Adam(learning_rate=0.001)"
      ],
      "metadata": {
        "id": "0t-aBnYiqwps"
      },
      "execution_count": 5,
      "outputs": []
    },
    {
      "cell_type": "code",
      "source": [
        "# Base Model (Model 1)\n",
        "from tensorflow.keras import layers\n",
        "from tensorflow.keras.models import Sequential\n",
        "\n",
        "# Define a simple neural network model\n",
        "model_1 = Sequential([\n",
        "    layers.Input((28, 28)),  # Input layer for 28x28 images\n",
        "    layers.Lambda(lambda x: x / 255),  # Normalize pixel values to [0,1]\n",
        "    layers.Flatten(),  # Flatten the 2D image into a 1D vector\n",
        "    layers.Dense(10, activation='softmax')  # Output layer with 10 classes (for classification) -- Only 10 nodes\n",
        "])\n",
        "\n",
        "# Compile the model with an optimizer, loss function, and evaluation metric\n",
        "model_1.compile(optimizer=optimizer_1,\n",
        "              loss='sparse_categorical_crossentropy',\n",
        "              metrics=['accuracy'])\n",
        "\n",
        "# Train the model using training data, validate on test data\n",
        "model_1.fit(x=X_train, y=y_train, validation_data=(X_test, y_test), epochs=10)"
      ],
      "metadata": {
        "colab": {
          "base_uri": "https://localhost:8080/"
        },
        "id": "oK-NspwxrShn",
        "outputId": "c6fdccc7-4f28-4740-eb86-54b9532710b3"
      },
      "execution_count": 6,
      "outputs": [
        {
          "output_type": "stream",
          "name": "stdout",
          "text": [
            "Epoch 1/10\n",
            "\u001b[1m1875/1875\u001b[0m \u001b[32m━━━━━━━━━━━━━━━━━━━━\u001b[0m\u001b[37m\u001b[0m \u001b[1m6s\u001b[0m 3ms/step - accuracy: 0.8229 - loss: 0.7060 - val_accuracy: 0.9148 - val_loss: 0.3090\n",
            "Epoch 2/10\n",
            "\u001b[1m1875/1875\u001b[0m \u001b[32m━━━━━━━━━━━━━━━━━━━━\u001b[0m\u001b[37m\u001b[0m \u001b[1m6s\u001b[0m 3ms/step - accuracy: 0.9156 - loss: 0.3034 - val_accuracy: 0.9217 - val_loss: 0.2813\n",
            "Epoch 3/10\n",
            "\u001b[1m1875/1875\u001b[0m \u001b[32m━━━━━━━━━━━━━━━━━━━━\u001b[0m\u001b[37m\u001b[0m \u001b[1m5s\u001b[0m 3ms/step - accuracy: 0.9197 - loss: 0.2859 - val_accuracy: 0.9246 - val_loss: 0.2738\n",
            "Epoch 4/10\n",
            "\u001b[1m1875/1875\u001b[0m \u001b[32m━━━━━━━━━━━━━━━━━━━━\u001b[0m\u001b[37m\u001b[0m \u001b[1m6s\u001b[0m 3ms/step - accuracy: 0.9227 - loss: 0.2761 - val_accuracy: 0.9247 - val_loss: 0.2721\n",
            "Epoch 5/10\n",
            "\u001b[1m1875/1875\u001b[0m \u001b[32m━━━━━━━━━━━━━━━━━━━━\u001b[0m\u001b[37m\u001b[0m \u001b[1m6s\u001b[0m 3ms/step - accuracy: 0.9265 - loss: 0.2618 - val_accuracy: 0.9254 - val_loss: 0.2664\n",
            "Epoch 6/10\n",
            "\u001b[1m1875/1875\u001b[0m \u001b[32m━━━━━━━━━━━━━━━━━━━━\u001b[0m\u001b[37m\u001b[0m \u001b[1m10s\u001b[0m 3ms/step - accuracy: 0.9290 - loss: 0.2536 - val_accuracy: 0.9268 - val_loss: 0.2635\n",
            "Epoch 7/10\n",
            "\u001b[1m1875/1875\u001b[0m \u001b[32m━━━━━━━━━━━━━━━━━━━━\u001b[0m\u001b[37m\u001b[0m \u001b[1m11s\u001b[0m 3ms/step - accuracy: 0.9290 - loss: 0.2538 - val_accuracy: 0.9266 - val_loss: 0.2620\n",
            "Epoch 8/10\n",
            "\u001b[1m1875/1875\u001b[0m \u001b[32m━━━━━━━━━━━━━━━━━━━━\u001b[0m\u001b[37m\u001b[0m \u001b[1m5s\u001b[0m 2ms/step - accuracy: 0.9323 - loss: 0.2483 - val_accuracy: 0.9253 - val_loss: 0.2649\n",
            "Epoch 9/10\n",
            "\u001b[1m1875/1875\u001b[0m \u001b[32m━━━━━━━━━━━━━━━━━━━━\u001b[0m\u001b[37m\u001b[0m \u001b[1m6s\u001b[0m 3ms/step - accuracy: 0.9308 - loss: 0.2522 - val_accuracy: 0.9273 - val_loss: 0.2688\n",
            "Epoch 10/10\n",
            "\u001b[1m1875/1875\u001b[0m \u001b[32m━━━━━━━━━━━━━━━━━━━━\u001b[0m\u001b[37m\u001b[0m \u001b[1m6s\u001b[0m 3ms/step - accuracy: 0.9305 - loss: 0.2544 - val_accuracy: 0.9258 - val_loss: 0.2664\n"
          ]
        },
        {
          "output_type": "execute_result",
          "data": {
            "text/plain": [
              "<keras.src.callbacks.history.History at 0x78d43cf31810>"
            ]
          },
          "metadata": {},
          "execution_count": 6
        }
      ]
    },
    {
      "cell_type": "markdown",
      "source": [
        "  **Note:**\n",
        "\n",
        "![image.png](data:image/png;base64,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)"
      ],
      "metadata": {
        "id": "Y3heyftttkvE"
      }
    },
    {
      "cell_type": "code",
      "source": [
        "# Adding number of parameters (Model 2)\n",
        "optimizer_2 = Adam(learning_rate = 0.001)\n",
        "\n",
        "model_2 = Sequential(\n",
        "    [layers.Input((28, 28)),\n",
        "     layers.Lambda(lambda x: x / 255),\n",
        "     layers.Flatten(),\n",
        "     layers.Dense(32, activation='relu'),\n",
        "     layers.Dense(10, activation='softmax')\n",
        "    ]\n",
        ")\n",
        "\n",
        "model_2.compile(optimizer=optimizer_2,\n",
        "                loss='sparse_categorical_crossentropy',\n",
        "                metrics=['accuracy'])\n",
        "\n",
        "model_2.fit(x=X_train, y=y_train, validation_data=(X_test, y_test), epochs=10)"
      ],
      "metadata": {
        "colab": {
          "base_uri": "https://localhost:8080/"
        },
        "id": "3hlb1CEys-ic",
        "outputId": "0464bf20-84f0-49e4-82bb-d6f635e62d37"
      },
      "execution_count": 7,
      "outputs": [
        {
          "output_type": "stream",
          "name": "stdout",
          "text": [
            "Epoch 1/10\n",
            "\u001b[1m1875/1875\u001b[0m \u001b[32m━━━━━━━━━━━━━━━━━━━━\u001b[0m\u001b[37m\u001b[0m \u001b[1m7s\u001b[0m 3ms/step - accuracy: 0.8339 - loss: 0.5893 - val_accuracy: 0.9358 - val_loss: 0.2266\n",
            "Epoch 2/10\n",
            "\u001b[1m1875/1875\u001b[0m \u001b[32m━━━━━━━━━━━━━━━━━━━━\u001b[0m\u001b[37m\u001b[0m \u001b[1m6s\u001b[0m 3ms/step - accuracy: 0.9387 - loss: 0.2132 - val_accuracy: 0.9505 - val_loss: 0.1686\n",
            "Epoch 3/10\n",
            "\u001b[1m1875/1875\u001b[0m \u001b[32m━━━━━━━━━━━━━━━━━━━━\u001b[0m\u001b[37m\u001b[0m \u001b[1m5s\u001b[0m 3ms/step - accuracy: 0.9552 - loss: 0.1557 - val_accuracy: 0.9561 - val_loss: 0.1499\n",
            "Epoch 4/10\n",
            "\u001b[1m1875/1875\u001b[0m \u001b[32m━━━━━━━━━━━━━━━━━━━━\u001b[0m\u001b[37m\u001b[0m \u001b[1m11s\u001b[0m 3ms/step - accuracy: 0.9618 - loss: 0.1326 - val_accuracy: 0.9625 - val_loss: 0.1318\n",
            "Epoch 5/10\n",
            "\u001b[1m1875/1875\u001b[0m \u001b[32m━━━━━━━━━━━━━━━━━━━━\u001b[0m\u001b[37m\u001b[0m \u001b[1m6s\u001b[0m 3ms/step - accuracy: 0.9678 - loss: 0.1114 - val_accuracy: 0.9651 - val_loss: 0.1218\n",
            "Epoch 6/10\n",
            "\u001b[1m1875/1875\u001b[0m \u001b[32m━━━━━━━━━━━━━━━━━━━━\u001b[0m\u001b[37m\u001b[0m \u001b[1m6s\u001b[0m 3ms/step - accuracy: 0.9722 - loss: 0.0984 - val_accuracy: 0.9667 - val_loss: 0.1160\n",
            "Epoch 7/10\n",
            "\u001b[1m1875/1875\u001b[0m \u001b[32m━━━━━━━━━━━━━━━━━━━━\u001b[0m\u001b[37m\u001b[0m \u001b[1m6s\u001b[0m 3ms/step - accuracy: 0.9736 - loss: 0.0871 - val_accuracy: 0.9679 - val_loss: 0.1099\n",
            "Epoch 8/10\n",
            "\u001b[1m1875/1875\u001b[0m \u001b[32m━━━━━━━━━━━━━━━━━━━━\u001b[0m\u001b[37m\u001b[0m \u001b[1m6s\u001b[0m 3ms/step - accuracy: 0.9757 - loss: 0.0829 - val_accuracy: 0.9676 - val_loss: 0.1096\n",
            "Epoch 9/10\n",
            "\u001b[1m1875/1875\u001b[0m \u001b[32m━━━━━━━━━━━━━━━━━━━━\u001b[0m\u001b[37m\u001b[0m \u001b[1m7s\u001b[0m 4ms/step - accuracy: 0.9775 - loss: 0.0765 - val_accuracy: 0.9667 - val_loss: 0.1173\n",
            "Epoch 10/10\n",
            "\u001b[1m1875/1875\u001b[0m \u001b[32m━━━━━━━━━━━━━━━━━━━━\u001b[0m\u001b[37m\u001b[0m \u001b[1m5s\u001b[0m 3ms/step - accuracy: 0.9809 - loss: 0.0652 - val_accuracy: 0.9708 - val_loss: 0.1118\n"
          ]
        },
        {
          "output_type": "execute_result",
          "data": {
            "text/plain": [
              "<keras.src.callbacks.history.History at 0x78d44338bbd0>"
            ]
          },
          "metadata": {},
          "execution_count": 7
        }
      ]
    },
    {
      "cell_type": "code",
      "source": [
        "# Increasing/Decreasing the learning rate (Model 3)\n",
        "\n",
        "# optimizer_3 = Adam(learning_rate = 0.1)\n",
        "optimizer_3 = Adam(learning_rate = 0.00001)\n",
        "\n",
        "model_3 = Sequential(\n",
        "    [layers.Input((28, 28)),\n",
        "     layers.Lambda(lambda x: x / 255),\n",
        "     layers.Flatten(),\n",
        "     layers.Dense(32, activation='relu'),\n",
        "     layers.Dense(10, activation='softmax')\n",
        "    ]\n",
        ")\n",
        "\n",
        "model_3.compile(optimizer=optimizer_3,\n",
        "                loss='sparse_categorical_crossentropy',\n",
        "                metrics=['accuracy'])\n",
        "\n",
        "model_3.fit(x=X_train, y=y_train, validation_data=(X_test, y_test), epochs=10)"
      ],
      "metadata": {
        "colab": {
          "base_uri": "https://localhost:8080/"
        },
        "id": "uqCoHqTIxMu5",
        "outputId": "5236b30c-2173-4412-da74-a8dd29f6eafe"
      },
      "execution_count": 8,
      "outputs": [
        {
          "output_type": "stream",
          "name": "stdout",
          "text": [
            "Epoch 1/10\n",
            "\u001b[1m1875/1875\u001b[0m \u001b[32m━━━━━━━━━━━━━━━━━━━━\u001b[0m\u001b[37m\u001b[0m \u001b[1m6s\u001b[0m 3ms/step - accuracy: 0.1931 - loss: 2.1581 - val_accuracy: 0.5856 - val_loss: 1.7161\n",
            "Epoch 2/10\n",
            "\u001b[1m1875/1875\u001b[0m \u001b[32m━━━━━━━━━━━━━━━━━━━━\u001b[0m\u001b[37m\u001b[0m \u001b[1m6s\u001b[0m 3ms/step - accuracy: 0.6373 - loss: 1.6010 - val_accuracy: 0.7642 - val_loss: 1.2353\n",
            "Epoch 3/10\n",
            "\u001b[1m1875/1875\u001b[0m \u001b[32m━━━━━━━━━━━━━━━━━━━━\u001b[0m\u001b[37m\u001b[0m \u001b[1m9s\u001b[0m 3ms/step - accuracy: 0.7691 - loss: 1.1727 - val_accuracy: 0.8212 - val_loss: 0.9300\n",
            "Epoch 4/10\n",
            "\u001b[1m1875/1875\u001b[0m \u001b[32m━━━━━━━━━━━━━━━━━━━━\u001b[0m\u001b[37m\u001b[0m \u001b[1m6s\u001b[0m 3ms/step - accuracy: 0.8183 - loss: 0.9033 - val_accuracy: 0.8499 - val_loss: 0.7459\n",
            "Epoch 5/10\n",
            "\u001b[1m1875/1875\u001b[0m \u001b[32m━━━━━━━━━━━━━━━━━━━━\u001b[0m\u001b[37m\u001b[0m \u001b[1m10s\u001b[0m 3ms/step - accuracy: 0.8446 - loss: 0.7388 - val_accuracy: 0.8665 - val_loss: 0.6324\n",
            "Epoch 6/10\n",
            "\u001b[1m1875/1875\u001b[0m \u001b[32m━━━━━━━━━━━━━━━━━━━━\u001b[0m\u001b[37m\u001b[0m \u001b[1m10s\u001b[0m 3ms/step - accuracy: 0.8561 - loss: 0.6383 - val_accuracy: 0.8749 - val_loss: 0.5582\n",
            "Epoch 7/10\n",
            "\u001b[1m1875/1875\u001b[0m \u001b[32m━━━━━━━━━━━━━━━━━━━━\u001b[0m\u001b[37m\u001b[0m \u001b[1m10s\u001b[0m 3ms/step - accuracy: 0.8650 - loss: 0.5679 - val_accuracy: 0.8803 - val_loss: 0.5065\n",
            "Epoch 8/10\n",
            "\u001b[1m1875/1875\u001b[0m \u001b[32m━━━━━━━━━━━━━━━━━━━━\u001b[0m\u001b[37m\u001b[0m \u001b[1m6s\u001b[0m 3ms/step - accuracy: 0.8755 - loss: 0.5147 - val_accuracy: 0.8870 - val_loss: 0.4690\n",
            "Epoch 9/10\n",
            "\u001b[1m1875/1875\u001b[0m \u001b[32m━━━━━━━━━━━━━━━━━━━━\u001b[0m\u001b[37m\u001b[0m \u001b[1m5s\u001b[0m 3ms/step - accuracy: 0.8819 - loss: 0.4779 - val_accuracy: 0.8898 - val_loss: 0.4409\n",
            "Epoch 10/10\n",
            "\u001b[1m1875/1875\u001b[0m \u001b[32m━━━━━━━━━━━━━━━━━━━━\u001b[0m\u001b[37m\u001b[0m \u001b[1m7s\u001b[0m 3ms/step - accuracy: 0.8849 - loss: 0.4546 - val_accuracy: 0.8943 - val_loss: 0.4185\n"
          ]
        },
        {
          "output_type": "execute_result",
          "data": {
            "text/plain": [
              "<keras.src.callbacks.history.History at 0x78d43f178990>"
            ]
          },
          "metadata": {},
          "execution_count": 8
        }
      ]
    },
    {
      "cell_type": "code",
      "source": [
        "# Greatly adding number of parameters (Model 4)\n",
        "optimizer_4 = Adam(learning_rate = 0.001)\n",
        "\n",
        "model_4 = Sequential(\n",
        "    [layers.Input((28, 28)),\n",
        "     layers.Lambda(lambda x: x / 255),\n",
        "     layers.Flatten(),\n",
        "     layers.Dense(128, activation='relu'),\n",
        "     layers.Dense(128, activation='relu'),\n",
        "     layers.Dense(10, activation='softmax')\n",
        "    ]\n",
        ")\n",
        "\n",
        "model_4.compile(optimizer=optimizer_4,\n",
        "                loss='sparse_categorical_crossentropy',\n",
        "                metrics=['accuracy'])\n",
        "\n",
        "model_4.fit(x=X_train, y=y_train, validation_data=(X_test, y_test), epochs=10)"
      ],
      "metadata": {
        "colab": {
          "base_uri": "https://localhost:8080/"
        },
        "id": "lDg22EWvxN4B",
        "outputId": "c8e46724-6540-4653-bdda-0d39196568c2"
      },
      "execution_count": 9,
      "outputs": [
        {
          "output_type": "stream",
          "name": "stdout",
          "text": [
            "Epoch 1/10\n",
            "\u001b[1m1875/1875\u001b[0m \u001b[32m━━━━━━━━━━━━━━━━━━━━\u001b[0m\u001b[37m\u001b[0m \u001b[1m12s\u001b[0m 5ms/step - accuracy: 0.8887 - loss: 0.3953 - val_accuracy: 0.9603 - val_loss: 0.1259\n",
            "Epoch 2/10\n",
            "\u001b[1m1875/1875\u001b[0m \u001b[32m━━━━━━━━━━━━━━━━━━━━\u001b[0m\u001b[37m\u001b[0m \u001b[1m20s\u001b[0m 5ms/step - accuracy: 0.9693 - loss: 0.0993 - val_accuracy: 0.9690 - val_loss: 0.1007\n",
            "Epoch 3/10\n",
            "\u001b[1m1875/1875\u001b[0m \u001b[32m━━━━━━━━━━━━━━━━━━━━\u001b[0m\u001b[37m\u001b[0m \u001b[1m10s\u001b[0m 5ms/step - accuracy: 0.9804 - loss: 0.0644 - val_accuracy: 0.9769 - val_loss: 0.0777\n",
            "Epoch 4/10\n",
            "\u001b[1m1875/1875\u001b[0m \u001b[32m━━━━━━━━━━━━━━━━━━━━\u001b[0m\u001b[37m\u001b[0m \u001b[1m10s\u001b[0m 5ms/step - accuracy: 0.9850 - loss: 0.0466 - val_accuracy: 0.9690 - val_loss: 0.1029\n",
            "Epoch 5/10\n",
            "\u001b[1m1875/1875\u001b[0m \u001b[32m━━━━━━━━━━━━━━━━━━━━\u001b[0m\u001b[37m\u001b[0m \u001b[1m11s\u001b[0m 6ms/step - accuracy: 0.9883 - loss: 0.0376 - val_accuracy: 0.9753 - val_loss: 0.0896\n",
            "Epoch 6/10\n",
            "\u001b[1m1875/1875\u001b[0m \u001b[32m━━━━━━━━━━━━━━━━━━━━\u001b[0m\u001b[37m\u001b[0m \u001b[1m11s\u001b[0m 6ms/step - accuracy: 0.9908 - loss: 0.0281 - val_accuracy: 0.9777 - val_loss: 0.0863\n",
            "Epoch 7/10\n",
            "\u001b[1m1875/1875\u001b[0m \u001b[32m━━━━━━━━━━━━━━━━━━━━\u001b[0m\u001b[37m\u001b[0m \u001b[1m10s\u001b[0m 6ms/step - accuracy: 0.9917 - loss: 0.0247 - val_accuracy: 0.9785 - val_loss: 0.0889\n",
            "Epoch 8/10\n",
            "\u001b[1m1875/1875\u001b[0m \u001b[32m━━━━━━━━━━━━━━━━━━━━\u001b[0m\u001b[37m\u001b[0m \u001b[1m11s\u001b[0m 6ms/step - accuracy: 0.9924 - loss: 0.0233 - val_accuracy: 0.9759 - val_loss: 0.0948\n",
            "Epoch 9/10\n",
            "\u001b[1m1875/1875\u001b[0m \u001b[32m━━━━━━━━━━━━━━━━━━━━\u001b[0m\u001b[37m\u001b[0m \u001b[1m19s\u001b[0m 5ms/step - accuracy: 0.9938 - loss: 0.0189 - val_accuracy: 0.9767 - val_loss: 0.0991\n",
            "Epoch 10/10\n",
            "\u001b[1m1875/1875\u001b[0m \u001b[32m━━━━━━━━━━━━━━━━━━━━\u001b[0m\u001b[37m\u001b[0m \u001b[1m11s\u001b[0m 6ms/step - accuracy: 0.9948 - loss: 0.0159 - val_accuracy: 0.9781 - val_loss: 0.1010\n"
          ]
        },
        {
          "output_type": "execute_result",
          "data": {
            "text/plain": [
              "<keras.src.callbacks.history.History at 0x78d439d2f9d0>"
            ]
          },
          "metadata": {},
          "execution_count": 9
        }
      ]
    },
    {
      "cell_type": "markdown",
      "source": [
        "Note: Model 4 almost directly memorized the training set, indicating overfitting."
      ],
      "metadata": {
        "id": "jsEuBMevzfE7"
      }
    },
    {
      "cell_type": "code",
      "source": [
        "# Add Regularization / Dropout to reduce overfitting\n",
        "\n",
        "from tensorflow.keras.regularizers import l2\n",
        "\n",
        "optimizer_5 = Adam(learning_rate = 0.001)\n",
        "\n",
        "model_5 = Sequential(\n",
        "    [layers.Input((28, 28)),\n",
        "     layers.Lambda(lambda x: x / 255),\n",
        "     layers.Flatten(),\n",
        "     layers.Dense(128, activation='relu', kernel_regularizer=l2(0.001)),\n",
        "     layers.Dropout(0.05),\n",
        "     layers.Dense(128, activation='relu', kernel_regularizer=l2(0.001)),\n",
        "     layers.Dropout(0.05),\n",
        "     layers.Dense(128, activation='relu', kernel_regularizer=l2(0.001)),\n",
        "     layers.Dropout(0.05),\n",
        "     layers.Dense(10, activation='softmax')\n",
        "    ]\n",
        ")\n",
        "\n",
        "model_5.compile(optimizer=optimizer_5,\n",
        "                loss='sparse_categorical_crossentropy',\n",
        "                metrics=['accuracy'])\n",
        "\n",
        "model_5.fit(x=X_train, y=y_train, validation_data=(X_test, y_test), epochs=10)"
      ],
      "metadata": {
        "colab": {
          "base_uri": "https://localhost:8080/"
        },
        "id": "wcoZNJba0t7d",
        "outputId": "057a0a71-f6bd-45d9-cc26-b7d1009a5780"
      },
      "execution_count": 10,
      "outputs": [
        {
          "output_type": "stream",
          "name": "stdout",
          "text": [
            "Epoch 1/10\n",
            "\u001b[1m1875/1875\u001b[0m \u001b[32m━━━━━━━━━━━━━━━━━━━━\u001b[0m\u001b[37m\u001b[0m \u001b[1m15s\u001b[0m 7ms/step - accuracy: 0.8673 - loss: 0.7474 - val_accuracy: 0.9577 - val_loss: 0.3202\n",
            "Epoch 2/10\n",
            "\u001b[1m1875/1875\u001b[0m \u001b[32m━━━━━━━━━━━━━━━━━━━━\u001b[0m\u001b[37m\u001b[0m \u001b[1m13s\u001b[0m 7ms/step - accuracy: 0.9576 - loss: 0.3152 - val_accuracy: 0.9635 - val_loss: 0.2584\n",
            "Epoch 3/10\n",
            "\u001b[1m1875/1875\u001b[0m \u001b[32m━━━━━━━━━━━━━━━━━━━━\u001b[0m\u001b[37m\u001b[0m \u001b[1m20s\u001b[0m 7ms/step - accuracy: 0.9617 - loss: 0.2619 - val_accuracy: 0.9684 - val_loss: 0.2314\n",
            "Epoch 4/10\n",
            "\u001b[1m1875/1875\u001b[0m \u001b[32m━━━━━━━━━━━━━━━━━━━━\u001b[0m\u001b[37m\u001b[0m \u001b[1m12s\u001b[0m 7ms/step - accuracy: 0.9649 - loss: 0.2419 - val_accuracy: 0.9676 - val_loss: 0.2244\n",
            "Epoch 5/10\n",
            "\u001b[1m1875/1875\u001b[0m \u001b[32m━━━━━━━━━━━━━━━━━━━━\u001b[0m\u001b[37m\u001b[0m \u001b[1m21s\u001b[0m 7ms/step - accuracy: 0.9657 - loss: 0.2321 - val_accuracy: 0.9652 - val_loss: 0.2266\n",
            "Epoch 6/10\n",
            "\u001b[1m1875/1875\u001b[0m \u001b[32m━━━━━━━━━━━━━━━━━━━━\u001b[0m\u001b[37m\u001b[0m \u001b[1m20s\u001b[0m 6ms/step - accuracy: 0.9679 - loss: 0.2176 - val_accuracy: 0.9732 - val_loss: 0.2023\n",
            "Epoch 7/10\n",
            "\u001b[1m1875/1875\u001b[0m \u001b[32m━━━━━━━━━━━━━━━━━━━━\u001b[0m\u001b[37m\u001b[0m \u001b[1m21s\u001b[0m 7ms/step - accuracy: 0.9682 - loss: 0.2136 - val_accuracy: 0.9749 - val_loss: 0.1934\n",
            "Epoch 8/10\n",
            "\u001b[1m1875/1875\u001b[0m \u001b[32m━━━━━━━━━━━━━━━━━━━━\u001b[0m\u001b[37m\u001b[0m \u001b[1m12s\u001b[0m 7ms/step - accuracy: 0.9691 - loss: 0.2093 - val_accuracy: 0.9723 - val_loss: 0.1948\n",
            "Epoch 9/10\n",
            "\u001b[1m1875/1875\u001b[0m \u001b[32m━━━━━━━━━━━━━━━━━━━━\u001b[0m\u001b[37m\u001b[0m \u001b[1m13s\u001b[0m 7ms/step - accuracy: 0.9680 - loss: 0.2095 - val_accuracy: 0.9737 - val_loss: 0.1920\n",
            "Epoch 10/10\n",
            "\u001b[1m1875/1875\u001b[0m \u001b[32m━━━━━━━━━━━━━━━━━━━━\u001b[0m\u001b[37m\u001b[0m \u001b[1m21s\u001b[0m 7ms/step - accuracy: 0.9695 - loss: 0.2009 - val_accuracy: 0.9666 - val_loss: 0.2100\n"
          ]
        },
        {
          "output_type": "execute_result",
          "data": {
            "text/plain": [
              "<keras.src.callbacks.history.History at 0x78d430f18990>"
            ]
          },
          "metadata": {},
          "execution_count": 10
        }
      ]
    },
    {
      "cell_type": "code",
      "source": [
        "# Increase the numbr of epochs\n",
        "model_5.fit(x=X_train, y=y_train, validation_data=(X_test, y_test), epochs=10)"
      ],
      "metadata": {
        "colab": {
          "base_uri": "https://localhost:8080/"
        },
        "id": "v0gC6KP_1evg",
        "outputId": "ef170486-3c17-4608-957f-0383a57fbc47"
      },
      "execution_count": 11,
      "outputs": [
        {
          "output_type": "stream",
          "name": "stdout",
          "text": [
            "Epoch 1/10\n",
            "\u001b[1m1875/1875\u001b[0m \u001b[32m━━━━━━━━━━━━━━━━━━━━\u001b[0m\u001b[37m\u001b[0m \u001b[1m12s\u001b[0m 7ms/step - accuracy: 0.9681 - loss: 0.2051 - val_accuracy: 0.9744 - val_loss: 0.1897\n",
            "Epoch 2/10\n",
            "\u001b[1m1875/1875\u001b[0m \u001b[32m━━━━━━━━━━━━━━━━━━━━\u001b[0m\u001b[37m\u001b[0m \u001b[1m20s\u001b[0m 7ms/step - accuracy: 0.9716 - loss: 0.1939 - val_accuracy: 0.9681 - val_loss: 0.2012\n",
            "Epoch 3/10\n",
            "\u001b[1m1875/1875\u001b[0m \u001b[32m━━━━━━━━━━━━━━━━━━━━\u001b[0m\u001b[37m\u001b[0m \u001b[1m12s\u001b[0m 7ms/step - accuracy: 0.9689 - loss: 0.2002 - val_accuracy: 0.9707 - val_loss: 0.1943\n",
            "Epoch 4/10\n",
            "\u001b[1m1875/1875\u001b[0m \u001b[32m━━━━━━━━━━━━━━━━━━━━\u001b[0m\u001b[37m\u001b[0m \u001b[1m12s\u001b[0m 7ms/step - accuracy: 0.9701 - loss: 0.1995 - val_accuracy: 0.9745 - val_loss: 0.1855\n",
            "Epoch 5/10\n",
            "\u001b[1m1875/1875\u001b[0m \u001b[32m━━━━━━━━━━━━━━━━━━━━\u001b[0m\u001b[37m\u001b[0m \u001b[1m12s\u001b[0m 7ms/step - accuracy: 0.9718 - loss: 0.1944 - val_accuracy: 0.9701 - val_loss: 0.2016\n",
            "Epoch 6/10\n",
            "\u001b[1m1875/1875\u001b[0m \u001b[32m━━━━━━━━━━━━━━━━━━━━\u001b[0m\u001b[37m\u001b[0m \u001b[1m13s\u001b[0m 7ms/step - accuracy: 0.9705 - loss: 0.1942 - val_accuracy: 0.9715 - val_loss: 0.1895\n",
            "Epoch 7/10\n",
            "\u001b[1m1875/1875\u001b[0m \u001b[32m━━━━━━━━━━━━━━━━━━━━\u001b[0m\u001b[37m\u001b[0m \u001b[1m12s\u001b[0m 7ms/step - accuracy: 0.9717 - loss: 0.1898 - val_accuracy: 0.9709 - val_loss: 0.1899\n",
            "Epoch 8/10\n",
            "\u001b[1m1875/1875\u001b[0m \u001b[32m━━━━━━━━━━━━━━━━━━━━\u001b[0m\u001b[37m\u001b[0m \u001b[1m12s\u001b[0m 7ms/step - accuracy: 0.9690 - loss: 0.1999 - val_accuracy: 0.9701 - val_loss: 0.1933\n",
            "Epoch 9/10\n",
            "\u001b[1m1875/1875\u001b[0m \u001b[32m━━━━━━━━━━━━━━━━━━━━\u001b[0m\u001b[37m\u001b[0m \u001b[1m13s\u001b[0m 7ms/step - accuracy: 0.9708 - loss: 0.1946 - val_accuracy: 0.9730 - val_loss: 0.1824\n",
            "Epoch 10/10\n",
            "\u001b[1m1875/1875\u001b[0m \u001b[32m━━━━━━━━━━━━━━━━━━━━\u001b[0m\u001b[37m\u001b[0m \u001b[1m20s\u001b[0m 7ms/step - accuracy: 0.9714 - loss: 0.1910 - val_accuracy: 0.9717 - val_loss: 0.1878\n"
          ]
        },
        {
          "output_type": "execute_result",
          "data": {
            "text/plain": [
              "<keras.src.callbacks.history.History at 0x78d43a0ef9d0>"
            ]
          },
          "metadata": {},
          "execution_count": 11
        }
      ]
    },
    {
      "cell_type": "code",
      "source": [
        "# Evaluate each model on the test set\n",
        "def evaluate_model(model, model_name):\n",
        "    loss, accuracy = model.evaluate(X_test, y_test, verbose=0)\n",
        "    print(f\"{model.name}: Test Accuracy = {accuracy:.4f}\")\n",
        "\n",
        "# Test all models\n",
        "print(\"Evaluating Model 1:\")\n",
        "evaluate_model(model_1, \"Model 1\")\n",
        "\n",
        "print(\"\\nEvaluating Model 2:\")\n",
        "evaluate_model(model_2, \"Model 2\")\n",
        "\n",
        "print(\"\\nEvaluating Model 3:\")\n",
        "evaluate_model(model_3, \"Model 3\")\n",
        "\n",
        "print(\"\\nEvaluating Model 4:\")\n",
        "evaluate_model(model_4, \"Model 4\")\n",
        "\n",
        "print(\"\\nEvaluating Model 5:\")\n",
        "evaluate_model(model_5, \"Model 5\")"
      ],
      "metadata": {
        "id": "0Ck-yikJ3Edv",
        "colab": {
          "base_uri": "https://localhost:8080/"
        },
        "outputId": "e2cde017-7815-4ca3-a4e6-99a1bf334aac"
      },
      "execution_count": 12,
      "outputs": [
        {
          "output_type": "stream",
          "name": "stdout",
          "text": [
            "Evaluating Model 1:\n",
            "sequential: Test Accuracy = 0.9258\n",
            "\n",
            "Evaluating Model 2:\n",
            "sequential_1: Test Accuracy = 0.9708\n",
            "\n",
            "Evaluating Model 3:\n",
            "sequential_2: Test Accuracy = 0.8943\n",
            "\n",
            "Evaluating Model 4:\n",
            "sequential_3: Test Accuracy = 0.9781\n",
            "\n",
            "Evaluating Model 5:\n",
            "sequential_4: Test Accuracy = 0.9717\n"
          ]
        }
      ]
    },
    {
      "cell_type": "code",
      "source": [
        "import numpy as np\n",
        "import matplotlib.pyplot as plt\n",
        "\n",
        "# Select 10 random indices from the test set\n",
        "num_samples = 10\n",
        "random_indices = np.random.choice(len(X_test), size=num_samples, replace=False)\n",
        "\n",
        "# Get 10 random test images and their actual labels\n",
        "sample_images = X_test[random_indices]\n",
        "actual_labels = y_test[random_indices]\n",
        "\n",
        "# Normalize and reshape the images for the model\n",
        "sample_images_norm = sample_images / 255.0  # Normalize\n",
        "sample_images_norm = sample_images.reshape(-1, 28, 28)  # Ensure correct shape\n",
        "\n",
        "# Get predictions\n",
        "predictions = model_5.predict(sample_images_norm)\n",
        "predicted_labels = np.argmax(predictions, axis=1)  # Get predicted labels\n",
        "\n",
        "# Plot the images with predictions\n",
        "fig, axes = plt.subplots(1, num_samples, figsize=(15, 3))\n",
        "for i, ax in enumerate(axes):\n",
        "    ax.imshow(sample_images[i], cmap='gray')\n",
        "    ax.set_title(f\"Predicted: {predicted_labels[i]}  \\n Actual Label: {actual_labels[i]}\", fontsize=10)\n",
        "    ax.axis('off')\n",
        "\n",
        "plt.show()"
      ],
      "metadata": {
        "colab": {
          "base_uri": "https://localhost:8080/",
          "height": 189
        },
        "id": "kdx3j1Vf3_Na",
        "outputId": "ba5194d3-594c-43fd-add1-2ebc1c69bb8a"
      },
      "execution_count": 13,
      "outputs": [
        {
          "output_type": "stream",
          "name": "stdout",
          "text": [
            "\u001b[1m1/1\u001b[0m \u001b[32m━━━━━━━━━━━━━━━━━━━━\u001b[0m\u001b[37m\u001b[0m \u001b[1m0s\u001b[0m 117ms/step\n"
          ]
        },
        {
          "output_type": "display_data",
          "data": {
            "text/plain": [
              "<Figure size 1500x300 with 10 Axes>"
            ],
            "image/png": "[encoded data removed]"
          },
          "metadata": {}
        }
      ]
    }
  ]
}